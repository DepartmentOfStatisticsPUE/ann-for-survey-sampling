{
  "nbformat": 4,
  "nbformat_minor": 0,
  "metadata": {
    "colab": {
      "name": "ann-paper-simulation-2.1-imputation-classes.ipynb",
      "provenance": [],
      "collapsed_sections": [],
      "authorship_tag": "ABX9TyPeZjp6vlxC24xqq0X8our2",
      "include_colab_link": true
    },
    "kernelspec": {
      "name": "python3",
      "display_name": "Python 3"
    }
  },
  "cells": [
    {
      "cell_type": "markdown",
      "metadata": {
        "id": "view-in-github",
        "colab_type": "text"
      },
      "source": [
        "<a href=\"https://colab.research.google.com/github/DepartmentOfStatisticsPUE/ann-for-survey-sampling/blob/main/ann_paper_simulation_2_1_imputation_classes.ipynb\" target=\"_parent\"><img src=\"https://colab.research.google.com/assets/colab-badge.svg\" alt=\"Open In Colab\"/></a>"
      ]
    },
    {
      "cell_type": "markdown",
      "metadata": {
        "id": "kY7g8ftjaSPP"
      },
      "source": [
        "# About \n",
        "\n",
        "This simulation study is based on simulation study from Section 5 of  Haziza & Beaumont (2007) paper.\n",
        "\n",
        "\n",
        "Literature:\n",
        "\n",
        "+ Haziza, D., & Beaumont, J. F. (2007). On the construction of imputation classes in surveys. International Statistical Review, 75(1), 25–43. https://doi.org/10.1111/j.1751-5823.2006.00002.x"
      ]
    },
    {
      "cell_type": "markdown",
      "metadata": {
        "id": "j4aD1pOBYwDe"
      },
      "source": [
        "# How to use the scripts\n",
        "\n",
        "1. run the codes to install requested packages (it may take some time)\n",
        "2. follow to the next sections to run specific codes\n",
        "3. the last sections contains summary of results"
      ]
    },
    {
      "cell_type": "markdown",
      "metadata": {
        "id": "HcZq_Wi2aBiv"
      },
      "source": [
        "# Install requested packages"
      ]
    },
    {
      "cell_type": "code",
      "metadata": {
        "id": "dK8iqUU_aBUH"
      },
      "source": [
        ""
      ],
      "execution_count": null,
      "outputs": []
    },
    {
      "cell_type": "markdown",
      "metadata": {
        "id": "nYAcA4IsZ-hm"
      },
      "source": [
        "# Load requested packages"
      ]
    },
    {
      "cell_type": "code",
      "metadata": {
        "id": "o0FfGzlVYekJ"
      },
      "source": [
        "import pandas as pd\n",
        "import numpy as np\n",
        "from sklearn.cluster import KMeans # kmeans = KMeans(n_clusters=2, random_state=0).fit(X)\n",
        "from plotnine import *\n",
        "from plotnine.data import *\n",
        "\n",
        "%matplotlib inline"
      ],
      "execution_count": 56,
      "outputs": []
    },
    {
      "cell_type": "markdown",
      "metadata": {
        "id": "2AYw-sFObG96"
      },
      "source": [
        "# Simulate data"
      ]
    },
    {
      "cell_type": "code",
      "metadata": {
        "colab": {
          "base_uri": "https://localhost:8080/"
        },
        "id": "SHGy3F7EbGiT",
        "outputId": "6f010749-9f2b-4fa8-eb1a-f077c0a90186"
      },
      "source": [
        "np.random.seed(123)\n",
        "N = 1000\n",
        "z1 = np.random.exponential(scale = 100, size = N)\n",
        "z2 = np.random.exponential(scale = 100, size = N)\n",
        "z3 = np.random.exponential(scale = 100, size = N)\n",
        "z4 = np.random.exponential(scale = 40, size = N)\n",
        "z5 = np.random.exponential(scale = 60, size = N)\n",
        "z6 = np.random.exponential(scale = 80, size = N)\n",
        "\n",
        "## set scale\n",
        "epsilon = np.random.normal(loc = 0, scale = 2, size = N)\n",
        "betas = np.array([20, 10, 0.5, 10])\n",
        "y = betas[0] + betas[1]*z1 + betas[2]*z2 + betas[3]*z3**2 + epsilon\n",
        "\n",
        "## mechanism 1 (approx 70%)\n",
        "lambdas = np.array([1.5, 0.9, -0.4])\n",
        "pr = np.exp(lambdas[0] + lambdas[1]*z1 + lambdas[2]*z2) / (1 + np.exp(lambdas[0] + lambdas[1]*z1 + lambdas[2]*z2))\n",
        "\n",
        "np.random.binomial(n=1, p = p1, size = N)"
      ],
      "execution_count": 58,
      "outputs": [
        {
          "output_type": "execute_result",
          "data": {
            "text/plain": [
              "695"
            ]
          },
          "metadata": {
            "tags": []
          },
          "execution_count": 58
        }
      ]
    }
  ]
}