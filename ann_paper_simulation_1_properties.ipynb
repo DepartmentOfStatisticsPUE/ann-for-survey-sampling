{
  "nbformat": 4,
  "nbformat_minor": 0,
  "metadata": {
    "colab": {
      "name": "ann-paper-simulation-1-properties.ipynb",
      "provenance": [],
      "collapsed_sections": [],
      "authorship_tag": "ABX9TyOEZS1Adjckab37kIo6cKWk",
      "include_colab_link": true
    },
    "kernelspec": {
      "name": "python3",
      "display_name": "Python 3"
    },
    "accelerator": "GPU"
  },
  "cells": [
    {
      "cell_type": "markdown",
      "metadata": {
        "id": "view-in-github",
        "colab_type": "text"
      },
      "source": [
        "<a href=\"https://colab.research.google.com/github/DepartmentOfStatisticsPUE/ann-for-survey-sampling/blob/main/ann_paper_simulation_1_properties.ipynb\" target=\"_parent\"><img src=\"https://colab.research.google.com/assets/colab-badge.svg\" alt=\"Open In Colab\"/></a>"
      ]
    },
    {
      "cell_type": "markdown",
      "metadata": {
        "id": "BaOylZ_wyYzY"
      },
      "source": [
        "## About\n",
        "\n",
        "This notebook covers simulation study to assess the performance of predictive mean imputation based on exact and approximate nearest neigbours. \n",
        "\n",
        "**Warning**: before runing this scripts go to `Runtime` -> `Change runtime type` and set it to `GPU`."
      ]
    },
    {
      "cell_type": "markdown",
      "metadata": {
        "id": "cAJ8fCEMyxzQ"
      },
      "source": [
        "## Install requested modules\n",
        "\n",
        "Please note that this may take some time"
      ]
    },
    {
      "cell_type": "code",
      "metadata": {
        "id": "HIGVVBPyyPUw"
      },
      "source": [
        "!apt install libomp-dev\n",
        "!pip install faiss-gpu\n",
        "!pip install n2\n",
        "!pip install scann\n",
        "!pip install annoy\n",
        "!pip install pyflann-py3\n",
        "!pip install pynndescent"
      ],
      "execution_count": null,
      "outputs": []
    },
    {
      "cell_type": "markdown",
      "metadata": {
        "id": "2pMhr7DWznfJ"
      },
      "source": [
        "## Import requested modules"
      ]
    },
    {
      "cell_type": "code",
      "metadata": {
        "id": "oYX-DeZRzqzU"
      },
      "source": [
        "## standard modules\n",
        "import pandas as pd\n",
        "import numpy as np\n",
        "import time\n",
        "\n",
        "## linear regression\n",
        "from sklearn.linear_model import LinearRegression\n",
        "\n",
        "## ann modules\n",
        "import scann\n",
        "import faiss\n",
        "from pyflann import *\n",
        "from annoy import AnnoyIndex\n",
        "from n2 import HnswIndex\n",
        "from scipy.spatial import cKDTree\n",
        "\n",
        "### setting for faiss gpu\n",
        "res = faiss.StandardGpuResources()"
      ],
      "execution_count": 14,
      "outputs": []
    },
    {
      "cell_type": "markdown",
      "metadata": {
        "id": "DkdqmjIT195F"
      },
      "source": [
        "## Helper functions"
      ]
    },
    {
      "cell_type": "code",
      "metadata": {
        "id": "EHUQPEzS1_a3"
      },
      "source": [
        "def kdtree_impute(y_pred, y_pred_miss, y):\n",
        "  tree = cKDTree(y_pred, leafsize = 100, balanced_tree=True)\n",
        "  dists, indx = tree.query(y_pred_miss, k = 1, eps = 0)\n",
        "  res = (np.sum(y) + np.sum(y[indx])) / (len(y_pred) + len(y_pred_miss))\n",
        "  return res"
      ],
      "execution_count": 158,
      "outputs": []
    },
    {
      "cell_type": "markdown",
      "metadata": {
        "id": "yC1nDkky0xZy"
      },
      "source": [
        "## Simulation studies outline\n",
        "\n",
        "Here, we conduct simulation study based on predictive mean matching. We replicate study from *Yang, S., & Kim, J. K. (2020). Asymptotic theory and inference of predictive mean matching imputation using a superpopulation model framework. Scandinavian Journal of Statistics, 47(3), 839-861.* paper, however we only assume missing data mechanism\n",
        "\n"
      ]
    },
    {
      "cell_type": "code",
      "metadata": {
        "colab": {
          "base_uri": "https://localhost:8080/"
        },
        "id": "YZdPhEJG13m4",
        "outputId": "7e514eb9-66d9-48f9-a3cf-d14113f6598e"
      },
      "source": [
        "np.random.seed(123)\n",
        "N = 500000\n",
        "x1 = np.random.uniform(size = N)\n",
        "x2 = np.random.uniform(size = N)\n",
        "x3 = np.random.uniform(size = N)\n",
        "x4 = np.random.normal(size = N)\n",
        "x5 = np.random.normal(size = N)\n",
        "x6 = np.random.normal(size = N)\n",
        "epsilon = np.random.normal(size=N)\n",
        "\n",
        "### target variables\n",
        "y1 = -1 + x1 + x2 + epsilon\n",
        "y2 = -1.167 + x1 + x2 + (x1 - 0.5)**2 + + (x2 - 0.5)**2 + epsilon\n",
        "y3 = -1.5 + x1 + x2 + x3 + x4 + x5 + x6 + epsilon\n",
        "\n",
        "## response indicator\n",
        "p1 = np.exp(0.2 + x1 + x2) / (1 + np.exp(0.2 + x1 + x2))\n",
        "\n",
        "data = np.column_stack((x1,x2,x3,x4,x5,x6,y1,y2,y3, p1)).astype('float32')\n",
        "\n",
        "## first three rows\n",
        "data[:3]"
      ],
      "execution_count": 114,
      "outputs": [
        {
          "output_type": "execute_result",
          "data": {
            "text/plain": [
              "array([[ 0.6964692 ,  0.39244577,  0.772698  ,  0.06619908,  1.181968  ,\n",
              "         0.33423862,  0.454862  ,  0.33803004,  2.3099656 ,  0.7839635 ],\n",
              "       [ 0.28613934,  0.46933195,  0.46711504,  0.33278647,  0.22954535,\n",
              "         0.11521499,  0.9884662 ,  0.8681431 ,  1.633128  ,  0.72221416],\n",
              "       [ 0.22685145,  0.62351155,  0.01994883, -1.044568  ,  0.11454313,\n",
              "        -0.31842756, -2.2750313 , -2.352166  , -4.003535  ,  0.7408446 ]],\n",
              "      dtype=float32)"
            ]
          },
          "metadata": {
            "tags": []
          },
          "execution_count": 114
        }
      ]
    },
    {
      "cell_type": "markdown",
      "metadata": {
        "id": "t1LemmH54jxh"
      },
      "source": [
        "### "
      ]
    },
    {
      "cell_type": "code",
      "metadata": {
        "colab": {
          "base_uri": "https://localhost:8080/"
        },
        "id": "P_4IDfhK23Ea",
        "outputId": "5fd831ef-e274-4597-9875-40fe3976eae1"
      },
      "source": [
        "R = 100\n",
        "sim1_results_ckdtree = np.zeros(shape = (R, 3))\n",
        "#sim1_results_ckdtree_time\n",
        "\n",
        "for r in range(R):\n",
        "  \n",
        "  if (r % 10 == 0):\n",
        "    print(r)\n",
        "\n",
        "  np.random.seed(r)\n",
        "  response_flag = np.random.binomial(n=1, p = p1, size = N)\n",
        "  data_resp = data[response_flag == 1]\n",
        "  data_noresp = data[response_flag != 1]\n",
        "  \n",
        "  ## predictive mean matching\n",
        "  ## y1\n",
        "  m1_reg_y1 = LinearRegression().fit(data_resp[:,:2], data_resp[:, 6])\n",
        "  m1_resp_y1_predict = m1_reg_y1.predict(data_resp[:,:2]).reshape(-1,1)\n",
        "  m1_noresp_y1_predict = m1_reg_y1.predict(data_noresp[:,:2]).reshape(-1,1)\n",
        "  ## y2\n",
        "  m1_reg_y2 = LinearRegression().fit(data_resp[:,:2], data_resp[:, 7])\n",
        "  m1_resp_y2_predict = m1_reg_y2.predict(data_resp[:,:2]).reshape(-1,1)\n",
        "  m1_noresp_y2_predict = m1_reg_y2.predict(data_noresp[:,:2]).reshape(-1,1)\n",
        "  ## y3\n",
        "  m1_reg_y3 = LinearRegression().fit(data_resp[:,:6], data_resp[:, 8])\n",
        "  m1_resp_y3_predict = m1_reg_y3.predict(data_resp[:,:6]).reshape(-1,1)\n",
        "  m1_noresp_y3_predict = m1_reg_y3.predict(data_noresp[:,:6]).reshape(-1,1)\n",
        "\n",
        "  ## cktree imputation\n",
        "  sim1_results_ckdtree[r, 0] = kdtree_impute(m1_resp_y1_predict, m1_noresp_y1_predict, data_resp[:, 6]) \n",
        "  sim1_results_ckdtree[r, 1] = kdtree_impute(m1_resp_y2_predict, m1_noresp_y2_predict, data_resp[:, 7])\n",
        "  sim1_results_ckdtree[r, 2] = kdtree_impute(m1_resp_y3_predict, m1_noresp_y3_predict, data_resp[:, 8])"
      ],
      "execution_count": 159,
      "outputs": [
        {
          "output_type": "stream",
          "text": [
            "0\n",
            "10\n",
            "20\n",
            "30\n",
            "40\n",
            "50\n",
            "60\n",
            "70\n",
            "80\n",
            "90\n"
          ],
          "name": "stdout"
        }
      ]
    },
    {
      "cell_type": "code",
      "metadata": {
        "colab": {
          "base_uri": "https://localhost:8080/"
        },
        "id": "_BGZZ0yfGdXs",
        "outputId": "8b558cc5-fafd-46d3-a417-21fa21245702"
      },
      "source": [
        "(np.mean(sim1_results_ckdtree, axis=0) - np.mean(data[:,[6,7,8]], axis = 0)) / np.mean(data[:,[6,7,8]], axis = 0)*100"
      ],
      "execution_count": 160,
      "outputs": [
        {
          "output_type": "execute_result",
          "data": {
            "text/plain": [
              "array([12.51039367,  1.7673738 ,  2.43293736])"
            ]
          },
          "metadata": {
            "tags": []
          },
          "execution_count": 160
        }
      ]
    },
    {
      "cell_type": "code",
      "metadata": {
        "colab": {
          "base_uri": "https://localhost:8080/"
        },
        "id": "zmrwNWmyK5bH",
        "outputId": "d21f1ec6-3a0b-40dc-e3f1-d88dc41578ed"
      },
      "source": [
        "t = AnnoyIndex(1, \"euclidean\")  \n",
        "for i in range(len(m1_resp_y2_predict)):\n",
        "  t.add_item(i, m1_resp_y2_predict[i])\n",
        "\n",
        "t.build(300)"
      ],
      "execution_count": 178,
      "outputs": [
        {
          "output_type": "execute_result",
          "data": {
            "text/plain": [
              "True"
            ]
          },
          "metadata": {
            "tags": []
          },
          "execution_count": 178
        }
      ]
    },
    {
      "cell_type": "code",
      "metadata": {
        "id": "Yh2kAMi-LSRA"
      },
      "source": [
        "annoy_inds = np.array([t.get_nns_by_vector(i, 1) for i in m1_resp_y2_predict])\n",
        "(np.sum(m1_resp_y2_predict) + np.sum(m1_resp_y2_predict[annoy_inds]))/N"
      ],
      "execution_count": null,
      "outputs": []
    }
  ]
}