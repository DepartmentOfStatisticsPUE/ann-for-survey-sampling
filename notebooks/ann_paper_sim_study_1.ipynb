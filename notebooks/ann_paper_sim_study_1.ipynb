{
  "nbformat": 4,
  "nbformat_minor": 0,
  "metadata": {
    "colab": {
      "name": "ann-paper-sim-study-1.ipynb",
      "provenance": [],
      "collapsed_sections": [],
      "authorship_tag": "ABX9TyN60Xe/di+AKtX/RXv5wi8I",
      "include_colab_link": true
    },
    "kernelspec": {
      "name": "python3",
      "display_name": "Python 3"
    }
  },
  "cells": [
    {
      "cell_type": "markdown",
      "metadata": {
        "id": "view-in-github",
        "colab_type": "text"
      },
      "source": [
        "<a href=\"https://colab.research.google.com/github/DepartmentOfStatisticsPUE/ann-for-survey-sampling/blob/main/notebooks/ann_paper_sim_study_1.ipynb\" target=\"_parent\"><img src=\"https://colab.research.google.com/assets/colab-badge.svg\" alt=\"Open In Colab\"/></a>"
      ]
    },
    {
      "cell_type": "markdown",
      "metadata": {
        "id": "nlTyGjDljmqB"
      },
      "source": [
        "Install required packages for the simulation study"
      ]
    },
    {
      "cell_type": "code",
      "metadata": {
        "id": "RD-iIL05jgzo"
      },
      "source": [
        "!pip install annoy"
      ],
      "execution_count": null,
      "outputs": []
    },
    {
      "cell_type": "code",
      "metadata": {
        "id": "asqw3-4ujjzn"
      },
      "source": [
        "!pip install pynndescent"
      ],
      "execution_count": null,
      "outputs": []
    },
    {
      "cell_type": "code",
      "metadata": {
        "id": "q6wdTyIsjmI1"
      },
      "source": [
        "!pip install hnswlib"
      ],
      "execution_count": null,
      "outputs": []
    },
    {
      "cell_type": "markdown",
      "metadata": {
        "id": "C2a_vFx0kSQ7"
      },
      "source": [
        "Load standard modules"
      ]
    },
    {
      "cell_type": "code",
      "metadata": {
        "id": "UcPm5i8SkRw5"
      },
      "source": [
        "import pandas as pd\n",
        "import numpy as np\n",
        "import plotnine as ggplot"
      ],
      "execution_count": null,
      "outputs": []
    },
    {
      "cell_type": "markdown",
      "metadata": {
        "id": "7GyU7a3Xkb4D"
      },
      "source": [
        "Load ann modules"
      ]
    },
    {
      "cell_type": "code",
      "metadata": {
        "id": "1BVQKhMLkbdI"
      },
      "source": [
        "from sklearn.neighbors import KDTree ## exact search\n",
        "from annoy import AnnoyIndex"
      ],
      "execution_count": null,
      "outputs": []
    }
  ]
}