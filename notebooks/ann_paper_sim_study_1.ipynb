{
  "nbformat": 4,
  "nbformat_minor": 0,
  "metadata": {
    "colab": {
      "name": "ann-paper-sim-study-1.ipynb",
      "provenance": [],
      "collapsed_sections": [],
      "authorship_tag": "ABX9TyPvNEjuHT2VAKByDc3SgoUj",
      "include_colab_link": true
    },
    "kernelspec": {
      "name": "python3",
      "display_name": "Python 3"
    }
  },
  "cells": [
    {
      "cell_type": "markdown",
      "metadata": {
        "id": "view-in-github",
        "colab_type": "text"
      },
      "source": [
        "<a href=\"https://colab.research.google.com/github/DepartmentOfStatisticsPUE/ann-for-survey-sampling/blob/main/notebooks/ann_paper_sim_study_1.ipynb\" target=\"_parent\"><img src=\"https://colab.research.google.com/assets/colab-badge.svg\" alt=\"Open In Colab\"/></a>"
      ]
    },
    {
      "cell_type": "markdown",
      "metadata": {
        "id": "nlTyGjDljmqB"
      },
      "source": [
        "Install required packages for the simulation study"
      ]
    },
    {
      "cell_type": "code",
      "metadata": {
        "id": "RD-iIL05jgzo"
      },
      "source": [
        "!pip install annoy\n",
        "!pip install pynndescent\n",
        "!pip install hnswlib"
      ],
      "execution_count": null,
      "outputs": []
    },
    {
      "cell_type": "markdown",
      "metadata": {
        "id": "C2a_vFx0kSQ7"
      },
      "source": [
        "Load standard modules"
      ]
    },
    {
      "cell_type": "code",
      "metadata": {
        "id": "UcPm5i8SkRw5"
      },
      "source": [
        "import pandas as pd\n",
        "import numpy as np\n",
        "import plotnine as ggplot"
      ],
      "execution_count": 44,
      "outputs": []
    },
    {
      "cell_type": "markdown",
      "metadata": {
        "id": "7GyU7a3Xkb4D"
      },
      "source": [
        "Load ann modules"
      ]
    },
    {
      "cell_type": "code",
      "metadata": {
        "id": "1BVQKhMLkbdI"
      },
      "source": [
        "from sklearn.neighbors import KDTree ## exact search with ['euclidean'] Other see: KDTree.valid_metrics\n",
        "#from annoy import AnnoyIndex"
      ],
      "execution_count": 16,
      "outputs": []
    },
    {
      "cell_type": "markdown",
      "metadata": {
        "id": "hi-4Bufar0te"
      },
      "source": [
        "Functions for the study"
      ]
    },
    {
      "cell_type": "code",
      "metadata": {
        "id": "9WktA5dar0PP"
      },
      "source": [
        "## exact nn\n",
        "def exact_nn_numpy(sample, data, y, x ):\n",
        "  nns = np.array([data[np.argmin(np.sqrt(np.sum((row-data[:,x])**2,axis=1)))] for row in sample[:,x]])[:,y]\n",
        "  res = np.mean(nns, axis=0)\n",
        "  return res\n",
        "\n",
        "## kdtree\n",
        "def kdtree_impute(sample, data, y, x):\n",
        "  tree = KDTree(data[:,x], leaf_size = 40, metric = 'euclidean')\n",
        "  nns = tree.query(sample[:,x], return_distance = False)\n",
        "  res = np.mean(data[nns], axis=0)[:, y]\n",
        "  return res"
      ],
      "execution_count": 75,
      "outputs": []
    },
    {
      "cell_type": "markdown",
      "metadata": {
        "id": "DTleIgiGkr4U"
      },
      "source": [
        "Generate data for the simulation study"
      ]
    },
    {
      "cell_type": "code",
      "metadata": {
        "colab": {
          "base_uri": "https://localhost:8080/"
        },
        "id": "ik9qc_5NkrQT",
        "outputId": "b0c274d1-3d10-402d-877b-fc14fefde191"
      },
      "source": [
        "np.random.seed(123)\n",
        "N = 1000000\n",
        "x1 = np.random.normal(loc=1.0,scale=1.0,size=N)\n",
        "x2 = np.random.exponential(scale=1.0, size = N)\n",
        "epsilon = np.random.normal(size=N)\n",
        "\n",
        "### target variables\n",
        "y1 = 1 + x1 + x2 + epsilon\n",
        "y2 = 0.5*(x1 - 1.5)**2 + x2 + epsilon\n",
        "## propensity scores\n",
        "p1 = np.exp(x2) / (1 + np.exp(x2))\n",
        "p2 = np.exp(-0.5 + 0.5*(x2-2)**2) / (1 + np.exp(-0.5 + 0.5*(x2-2)**2))\n",
        "\n",
        "data = np.column_stack((x1,x2,y1,y2,p1,p2))\n",
        "data[:5]"
      ],
      "execution_count": 19,
      "outputs": [
        {
          "output_type": "execute_result",
          "data": {
            "text/plain": [
              "array([[-0.0856306 ,  0.55466463,  0.90054107,  1.24328388,  0.63521714,\n",
              "         0.63285795],\n",
              "       [ 1.99734545,  1.19758235,  4.45522212,  1.58155292,  0.76809442,\n",
              "         0.45560151],\n",
              "       [ 1.2829785 ,  0.84342942,  3.025612  ,  0.76618266,  0.699187  ,\n",
              "         0.54210697],\n",
              "       [-0.50629471,  4.28335756,  4.09344198,  5.61234593,  0.98639148,\n",
              "         0.89156823],\n",
              "       [ 0.42139975,  1.56705153,  2.21403432,  1.37432383,  0.82736287,\n",
              "         0.39980497]])"
            ]
          },
          "metadata": {
            "tags": []
          },
          "execution_count": 19
        }
      ]
    },
    {
      "cell_type": "markdown",
      "metadata": {
        "id": "x_P_e0K4mtg1"
      },
      "source": [
        "Simulation study"
      ]
    },
    {
      "cell_type": "code",
      "metadata": {
        "id": "levbVlUSmUsN"
      },
      "source": [
        "R = 2000\n",
        "xs = [0,1]\n",
        "ys = [2,3]\n",
        "ps = [4,5]\n",
        "\n",
        "s500 = np.random.choice(a = data.shape[0], size = 500, replace = False)\n",
        "s1000 = np.random.choice(a = data.shape[0], size = 500, replace = False)"
      ],
      "execution_count": 51,
      "outputs": []
    },
    {
      "cell_type": "code",
      "metadata": {
        "colab": {
          "base_uri": "https://localhost:8080/"
        },
        "id": "bVpn8vlUu_Hd",
        "outputId": "6595b300-c026-4099-a20f-63cae74a5f05"
      },
      "source": [
        "%%time\n",
        "result = exact_nn_numpy(data[s500], data, ys, xs)"
      ],
      "execution_count": 73,
      "outputs": [
        {
          "output_type": "stream",
          "text": [
            "CPU times: user 10 s, sys: 106 ms, total: 10.1 s\n",
            "Wall time: 10.1 s\n"
          ],
          "name": "stdout"
        }
      ]
    },
    {
      "cell_type": "code",
      "metadata": {
        "colab": {
          "base_uri": "https://localhost:8080/"
        },
        "id": "Ck0wDQIMwNyz",
        "outputId": "bf43d5dc-887e-4a6a-f8dd-b75c6f96f46d"
      },
      "source": [
        "print(np.mean(data[:,ys], axis=0))\n",
        "print(np.mean(result, axis=0))"
      ],
      "execution_count": 56,
      "outputs": [
        {
          "output_type": "stream",
          "text": [
            "[3.00157899 1.62589353]\n",
            "[2.98569788 1.6752459 ]\n"
          ],
          "name": "stdout"
        }
      ]
    },
    {
      "cell_type": "code",
      "metadata": {
        "colab": {
          "base_uri": "https://localhost:8080/"
        },
        "id": "GVIv1pBYp6Ol",
        "outputId": "5daa3938-8c8a-4628-8820-c9752cc620f6"
      },
      "source": [
        "%%time\n",
        "kkkk = KDTree(data[:,xs], leaf_size = 40, metric = 'euclidean')\n",
        "kdtree_res = kkkk.query(data[s500][:,xs], return_distance = False)\n",
        "np.mean(data[kdtree_res], axis=0)[:, ys]"
      ],
      "execution_count": 74,
      "outputs": [
        {
          "output_type": "stream",
          "text": [
            "CPU times: user 1.13 s, sys: 0 ns, total: 1.13 s\n",
            "Wall time: 1.13 s\n"
          ],
          "name": "stdout"
        }
      ]
    }
  ]
}