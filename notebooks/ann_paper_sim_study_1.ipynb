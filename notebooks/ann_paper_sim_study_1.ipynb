{
  "nbformat": 4,
  "nbformat_minor": 0,
  "metadata": {
    "colab": {
      "name": "ann-paper-sim-study-1.ipynb",
      "provenance": [],
      "collapsed_sections": [],
      "authorship_tag": "ABX9TyNHtfkGamf9t8whqMd2WX2R",
      "include_colab_link": true
    },
    "kernelspec": {
      "name": "python3",
      "display_name": "Python 3"
    }
  },
  "cells": [
    {
      "cell_type": "markdown",
      "metadata": {
        "id": "view-in-github",
        "colab_type": "text"
      },
      "source": [
        "<a href=\"https://colab.research.google.com/github/DepartmentOfStatisticsPUE/ann-for-survey-sampling/blob/main/notebooks/ann_paper_sim_study_1.ipynb\" target=\"_parent\"><img src=\"https://colab.research.google.com/assets/colab-badge.svg\" alt=\"Open In Colab\"/></a>"
      ]
    },
    {
      "cell_type": "markdown",
      "metadata": {
        "id": "nlTyGjDljmqB"
      },
      "source": [
        "Install required packages for the simulation study"
      ]
    },
    {
      "cell_type": "code",
      "metadata": {
        "id": "RD-iIL05jgzo"
      },
      "source": [
        "!pip install annoy"
      ],
      "execution_count": null,
      "outputs": []
    },
    {
      "cell_type": "code",
      "metadata": {
        "id": "asqw3-4ujjzn"
      },
      "source": [
        "!pip install pynndescent"
      ],
      "execution_count": null,
      "outputs": []
    },
    {
      "cell_type": "code",
      "metadata": {
        "id": "q6wdTyIsjmI1"
      },
      "source": [
        "!pip install hnswlib"
      ],
      "execution_count": null,
      "outputs": []
    },
    {
      "cell_type": "markdown",
      "metadata": {
        "id": "C2a_vFx0kSQ7"
      },
      "source": [
        "Load standard modules"
      ]
    },
    {
      "cell_type": "code",
      "metadata": {
        "id": "UcPm5i8SkRw5"
      },
      "source": [
        "import pandas as pd\n",
        "import numpy as np\n",
        "import plotnine as ggplot"
      ],
      "execution_count": 1,
      "outputs": []
    },
    {
      "cell_type": "markdown",
      "metadata": {
        "id": "7GyU7a3Xkb4D"
      },
      "source": [
        "Load ann modules"
      ]
    },
    {
      "cell_type": "code",
      "metadata": {
        "id": "1BVQKhMLkbdI"
      },
      "source": [
        "from sklearn.neighbors import KDTree ## exact search\n",
        "from annoy import AnnoyIndex"
      ],
      "execution_count": null,
      "outputs": []
    },
    {
      "cell_type": "markdown",
      "metadata": {
        "id": "DTleIgiGkr4U"
      },
      "source": [
        "Generate data for the simulation study"
      ]
    },
    {
      "cell_type": "code",
      "metadata": {
        "colab": {
          "base_uri": "https://localhost:8080/"
        },
        "id": "ik9qc_5NkrQT",
        "outputId": "2c06c86d-399b-4e78-9015-d28c137d704f"
      },
      "source": [
        "np.random.seed(123)\n",
        "N = 1000000\n",
        "x1 = np.random.normal(loc=1.0,scale=1.0,size=N)\n",
        "x2 = np.random.exponential(scale=1.0, size = N)\n",
        "epsilon = np.random.normal(size=N)\n",
        "\n",
        "### target variables\n",
        "y1 = 1 + x1 + x2 + epsilon\n",
        "y2 = 0.5*(x1 - 1.5)**2 + x2 + epsilon\n",
        "## propensity scores\n",
        "p1 = np.exp(x2) / (1 + np.exp(x2))\n",
        "p2 = np.exp(-0.5 + 0.5*(x2-2)**2) / (1 + np.exp(-0.5 + 0.5*(x2-2)**2))\n",
        "\n",
        "data = np.column_stack((x1,x2,y1,y2,p1,p2))\n",
        "data[:5]"
      ],
      "execution_count": 6,
      "outputs": [
        {
          "output_type": "execute_result",
          "data": {
            "text/plain": [
              "array([[-0.0856306 ,  0.55466463,  0.90054107,  1.24328388,  0.63521714,\n",
              "         0.63285795],\n",
              "       [ 1.99734545,  1.19758235,  4.45522212,  1.58155292,  0.76809442,\n",
              "         0.45560151],\n",
              "       [ 1.2829785 ,  0.84342942,  3.025612  ,  0.76618266,  0.699187  ,\n",
              "         0.54210697],\n",
              "       [-0.50629471,  4.28335756,  4.09344198,  5.61234593,  0.98639148,\n",
              "         0.89156823],\n",
              "       [ 0.42139975,  1.56705153,  2.21403432,  1.37432383,  0.82736287,\n",
              "         0.39980497]])"
            ]
          },
          "metadata": {
            "tags": []
          },
          "execution_count": 6
        }
      ]
    },
    {
      "cell_type": "markdown",
      "metadata": {
        "id": "x_P_e0K4mtg1"
      },
      "source": [
        "Simulation study"
      ]
    },
    {
      "cell_type": "code",
      "metadata": {
        "id": "levbVlUSmUsN"
      },
      "source": [
        "R = 2000\n",
        "\n",
        "s500 = np.random.choice(a = data.shape[0], size = 500, replace = False)\n",
        "s1000 = np.random.choice(a = data.shape[0], size = 500, replace = False)"
      ],
      "execution_count": null,
      "outputs": []
    }
  ]
}