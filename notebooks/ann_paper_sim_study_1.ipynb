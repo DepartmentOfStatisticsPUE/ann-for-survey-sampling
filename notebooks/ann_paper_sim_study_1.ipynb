{
  "nbformat": 4,
  "nbformat_minor": 0,
  "metadata": {
    "colab": {
      "name": "ann-paper-sim-study-1.ipynb",
      "provenance": [],
      "authorship_tag": "ABX9TyOYXNTHASTG9+6od5WNhWsY",
      "include_colab_link": true
    },
    "kernelspec": {
      "name": "python3",
      "display_name": "Python 3"
    }
  },
  "cells": [
    {
      "cell_type": "markdown",
      "metadata": {
        "id": "view-in-github",
        "colab_type": "text"
      },
      "source": [
        "<a href=\"https://colab.research.google.com/github/DepartmentOfStatisticsPUE/ann-for-survey-sampling/blob/main/notebooks/ann_paper_sim_study_1.ipynb\" target=\"_parent\"><img src=\"https://colab.research.google.com/assets/colab-badge.svg\" alt=\"Open In Colab\"/></a>"
      ]
    },
    {
      "cell_type": "markdown",
      "metadata": {
        "id": "nlTyGjDljmqB"
      },
      "source": [
        "Install required packages for the simulation study"
      ]
    },
    {
      "cell_type": "code",
      "metadata": {
        "id": "RD-iIL05jgzo"
      },
      "source": [
        "!pip install annoy"
      ],
      "execution_count": null,
      "outputs": []
    },
    {
      "cell_type": "code",
      "metadata": {
        "id": "asqw3-4ujjzn"
      },
      "source": [
        "!pip install pynndescent"
      ],
      "execution_count": null,
      "outputs": []
    },
    {
      "cell_type": "code",
      "metadata": {
        "id": "q6wdTyIsjmI1"
      },
      "source": [
        "!pip install hnswlib"
      ],
      "execution_count": null,
      "outputs": []
    }
  ]
}