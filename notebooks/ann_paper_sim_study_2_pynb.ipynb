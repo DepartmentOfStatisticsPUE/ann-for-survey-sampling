{
  "nbformat": 4,
  "nbformat_minor": 0,
  "metadata": {
    "colab": {
      "name": "ann-paper-sim-study-2.pynb",
      "provenance": [],
      "collapsed_sections": [],
      "authorship_tag": "ABX9TyM19rP0Fe6FFl0O3tqa2q+g",
      "include_colab_link": true
    },
    "kernelspec": {
      "name": "python3",
      "display_name": "Python 3"
    }
  },
  "cells": [
    {
      "cell_type": "markdown",
      "metadata": {
        "id": "view-in-github",
        "colab_type": "text"
      },
      "source": [
        "<a href=\"https://colab.research.google.com/github/DepartmentOfStatisticsPUE/ann-for-survey-sampling/blob/main/notebooks/ann_paper_sim_study_2_pynb.ipynb\" target=\"_parent\"><img src=\"https://colab.research.google.com/assets/colab-badge.svg\" alt=\"Open In Colab\"/></a>"
      ]
    },
    {
      "cell_type": "markdown",
      "metadata": {
        "id": "6ivytX5EUrwX"
      },
      "source": [
        "# Installation required packages"
      ]
    },
    {
      "cell_type": "code",
      "metadata": {
        "id": "jWmJmGTHUjA3"
      },
      "source": [
        "!pip install nearpy ## do we need it?"
      ],
      "execution_count": null,
      "outputs": []
    },
    {
      "cell_type": "code",
      "metadata": {
        "id": "oYQBfr2cHYKT"
      },
      "source": [
        "!pip install annoy"
      ],
      "execution_count": null,
      "outputs": []
    },
    {
      "cell_type": "code",
      "metadata": {
        "id": "rocb3WnxiaKT"
      },
      "source": [
        "!pip install pynndescent"
      ],
      "execution_count": null,
      "outputs": []
    },
    {
      "cell_type": "code",
      "metadata": {
        "id": "Ig3JbqJcisBh"
      },
      "source": [
        "!pip install hnswlib"
      ],
      "execution_count": null,
      "outputs": []
    },
    {
      "cell_type": "code",
      "metadata": {
        "id": "Jd5UeBSQjYxj"
      },
      "source": [
        "from sklearn.neighbors import KDTree"
      ],
      "execution_count": 2,
      "outputs": []
    },
    {
      "cell_type": "code",
      "metadata": {
        "id": "iVUosBRNUn-_"
      },
      "source": [
        "import pandas as pd\n",
        "import numpy as np\n",
        "from numba import jit"
      ],
      "execution_count": 3,
      "outputs": []
    },
    {
      "cell_type": "code",
      "metadata": {
        "id": "2OOOrlUlHjhy"
      },
      "source": [
        "from annoy import AnnoyIndex"
      ],
      "execution_count": 2,
      "outputs": []
    },
    {
      "cell_type": "code",
      "metadata": {
        "id": "-VwCWcpnU32r"
      },
      "source": [
        "from nearpy import Engine\n",
        "from nearpy.hashes import RandomBinaryProjections ## przez to jest bez sensu\n",
        "from nearpy.hashes import PCABinaryProjections\n",
        "from nearpy.distances import EuclideanDistance\n",
        "from nearpy.distances import CosineDistance\n",
        "from nearpy.distances import ManhattanDistance\n",
        "from nearpy.filters import NearestFilter"
      ],
      "execution_count": null,
      "outputs": []
    },
    {
      "cell_type": "code",
      "metadata": {
        "id": "GR1cGzLrVZIi"
      },
      "source": [
        "import plotnine as ggplot"
      ],
      "execution_count": null,
      "outputs": []
    },
    {
      "cell_type": "markdown",
      "metadata": {
        "id": "aNtfq5bPVGZW"
      },
      "source": [
        "Generate pseudo-random data based on Yang, S., & Kim, J. K. (2020). Asymptotic theory and inference of predictive mean matching imputation using a superpopulation model framework. Scandinavian Journal of Statistics, 47(3), 839–861. https://doi.org/10.1111/sjos.12429"
      ]
    },
    {
      "cell_type": "code",
      "metadata": {
        "id": "Dn_D3FMbaMnt"
      },
      "source": [
        "## settings\n",
        "rbp = RandomBinaryProjections('rbp', 2)\n",
        "engine = Engine(6, lshashes=[rbp], \n",
        "                distance = CosineDistance(), \n",
        "                vector_filters = [NearestFilter(1)])"
      ],
      "execution_count": null,
      "outputs": []
    },
    {
      "cell_type": "code",
      "metadata": {
        "id": "DMb2lNI0VRW6"
      },
      "source": [
        "np.random.seed(123)\n",
        "N = 50000\n",
        "x1 = np.random.uniform(size=N)\n",
        "x2 = np.random.uniform(size=N)\n",
        "x3 = np.random.uniform(size=N)\n",
        "x4 = np.random.normal(size=N)\n",
        "x5 = np.random.normal(size=N)\n",
        "x6 = np.random.normal(size=N)\n",
        "epsilon = np.random.normal(size=N)\n",
        "### target variables\n",
        "y1 = -1 + x1 + x2 + epsilon\n",
        "y2 = -1.167 + x1 + x2 + (x1-0.5)**2 + (x2-0.5)**2 + epsilon\n",
        "y3 = -1.5 + x1 + x2 + x3 + x4 + x5 + x6 + epsilon\n",
        "## non-response propensity score\n",
        "pr = np.exp(0.2 + x1 + x2) / (1 + np.exp(0.2 + x1 + x2))\n",
        "\n",
        "data = np.column_stack((x1,x2,x3,x4,x5,x6,y1,y2,y3))"
      ],
      "execution_count": 75,
      "outputs": []
    },
    {
      "cell_type": "code",
      "metadata": {
        "colab": {
          "base_uri": "https://localhost:8080/",
          "height": 442
        },
        "id": "uNDz25P6apNx",
        "outputId": "3c6950f0-5862-4cff-d790-b06a4f0d8216"
      },
      "source": [
        "B = 20\n",
        "boots = np.zeros(shape = (B,3))\n",
        "\n",
        "for b in range(B):\n",
        "  np.random.seed(b)\n",
        "  flag = np.random.binomial(n = 1, p = pr)  \n",
        "  data_observed = data[flag==1]\n",
        "  data_missing = data[flag!=1]\n",
        "\n",
        "  engine = Engine(6, lshashes=[rbp], distance = CosineDistance(), vector_filters = [NearestFilter(1)])\n",
        "\n",
        "  for index in range(data_observed.shape[0]):\n",
        "    engine.store_vector(data_observed[index, [0,1,2,3,4,5]], 'data_%d' % index)\n",
        "  \n",
        "  print(\"bootstrap: \", b)\n",
        "\n",
        "  result_indx = np.zeros(shape = data_missing.shape[0])\n",
        "  for i in range(data_missing.shape[0]):\n",
        "    if (np.remainder([i], [1000]) == 0):\n",
        "      print(\"quering: \", i)\n",
        "    res = engine.neighbours(data_missing[i, [0,1,2,3,4,5]])\n",
        "    result_indx[i] = [int(s) for s in res[0][1].split(\"_\") if s.isdigit()][0]\n",
        "\n",
        "  boots[b,:] = (np.sum(data_observed[result_indx.astype(int),:][:,[6,7,8]], axis=0) + np.sum(data_observed[:, [6,7,8]], axis =0))/N\n"
      ],
      "execution_count": null,
      "outputs": [
        {
          "output_type": "stream",
          "text": [
            "bootstrap:  0\n",
            "quering:  0\n",
            "quering:  1000\n",
            "bootstrap:  1\n",
            "quering:  0\n",
            "quering:  1000\n",
            "bootstrap:  2\n",
            "quering:  0\n",
            "quering:  1000\n",
            "bootstrap:  3\n",
            "quering:  0\n",
            "quering:  1000\n"
          ],
          "name": "stdout"
        },
        {
          "output_type": "error",
          "ename": "IndexError",
          "evalue": "ignored",
          "traceback": [
            "\u001b[0;31m---------------------------------------------------------------------------\u001b[0m",
            "\u001b[0;31mIndexError\u001b[0m                                Traceback (most recent call last)",
            "\u001b[0;32m<ipython-input-245-411746d77820>\u001b[0m in \u001b[0;36m<module>\u001b[0;34m()\u001b[0m\n\u001b[1;32m     20\u001b[0m       \u001b[0mprint\u001b[0m\u001b[0;34m(\u001b[0m\u001b[0;34m\"quering: \"\u001b[0m\u001b[0;34m,\u001b[0m \u001b[0mi\u001b[0m\u001b[0;34m)\u001b[0m\u001b[0;34m\u001b[0m\u001b[0;34m\u001b[0m\u001b[0m\n\u001b[1;32m     21\u001b[0m     \u001b[0mres\u001b[0m \u001b[0;34m=\u001b[0m \u001b[0mengine\u001b[0m\u001b[0;34m.\u001b[0m\u001b[0mneighbours\u001b[0m\u001b[0;34m(\u001b[0m\u001b[0mdata_missing\u001b[0m\u001b[0;34m[\u001b[0m\u001b[0mi\u001b[0m\u001b[0;34m,\u001b[0m \u001b[0;34m[\u001b[0m\u001b[0;36m0\u001b[0m\u001b[0;34m,\u001b[0m\u001b[0;36m1\u001b[0m\u001b[0;34m,\u001b[0m\u001b[0;36m2\u001b[0m\u001b[0;34m,\u001b[0m\u001b[0;36m3\u001b[0m\u001b[0;34m,\u001b[0m\u001b[0;36m4\u001b[0m\u001b[0;34m,\u001b[0m\u001b[0;36m5\u001b[0m\u001b[0;34m]\u001b[0m\u001b[0;34m]\u001b[0m\u001b[0;34m)\u001b[0m\u001b[0;34m\u001b[0m\u001b[0;34m\u001b[0m\u001b[0m\n\u001b[0;32m---> 22\u001b[0;31m     \u001b[0mresult_indx\u001b[0m\u001b[0;34m[\u001b[0m\u001b[0mi\u001b[0m\u001b[0;34m]\u001b[0m \u001b[0;34m=\u001b[0m \u001b[0;34m[\u001b[0m\u001b[0mint\u001b[0m\u001b[0;34m(\u001b[0m\u001b[0ms\u001b[0m\u001b[0;34m)\u001b[0m \u001b[0;32mfor\u001b[0m \u001b[0ms\u001b[0m \u001b[0;32min\u001b[0m \u001b[0mres\u001b[0m\u001b[0;34m[\u001b[0m\u001b[0;36m0\u001b[0m\u001b[0;34m]\u001b[0m\u001b[0;34m[\u001b[0m\u001b[0;36m1\u001b[0m\u001b[0;34m]\u001b[0m\u001b[0;34m.\u001b[0m\u001b[0msplit\u001b[0m\u001b[0;34m(\u001b[0m\u001b[0;34m\"_\"\u001b[0m\u001b[0;34m)\u001b[0m \u001b[0;32mif\u001b[0m \u001b[0ms\u001b[0m\u001b[0;34m.\u001b[0m\u001b[0misdigit\u001b[0m\u001b[0;34m(\u001b[0m\u001b[0;34m)\u001b[0m\u001b[0;34m]\u001b[0m\u001b[0;34m[\u001b[0m\u001b[0;36m0\u001b[0m\u001b[0;34m]\u001b[0m\u001b[0;34m\u001b[0m\u001b[0;34m\u001b[0m\u001b[0m\n\u001b[0m\u001b[1;32m     23\u001b[0m \u001b[0;34m\u001b[0m\u001b[0m\n\u001b[1;32m     24\u001b[0m   \u001b[0mboots\u001b[0m\u001b[0;34m[\u001b[0m\u001b[0mb\u001b[0m\u001b[0;34m,\u001b[0m\u001b[0;34m:\u001b[0m\u001b[0;34m]\u001b[0m \u001b[0;34m=\u001b[0m \u001b[0;34m(\u001b[0m\u001b[0mnp\u001b[0m\u001b[0;34m.\u001b[0m\u001b[0msum\u001b[0m\u001b[0;34m(\u001b[0m\u001b[0mdata_observed\u001b[0m\u001b[0;34m[\u001b[0m\u001b[0mresult_indx\u001b[0m\u001b[0;34m.\u001b[0m\u001b[0mastype\u001b[0m\u001b[0;34m(\u001b[0m\u001b[0mint\u001b[0m\u001b[0;34m)\u001b[0m\u001b[0;34m,\u001b[0m\u001b[0;34m:\u001b[0m\u001b[0;34m]\u001b[0m\u001b[0;34m[\u001b[0m\u001b[0;34m:\u001b[0m\u001b[0;34m,\u001b[0m\u001b[0;34m[\u001b[0m\u001b[0;36m6\u001b[0m\u001b[0;34m,\u001b[0m\u001b[0;36m7\u001b[0m\u001b[0;34m,\u001b[0m\u001b[0;36m8\u001b[0m\u001b[0;34m]\u001b[0m\u001b[0;34m]\u001b[0m\u001b[0;34m,\u001b[0m \u001b[0maxis\u001b[0m\u001b[0;34m=\u001b[0m\u001b[0;36m0\u001b[0m\u001b[0;34m)\u001b[0m \u001b[0;34m+\u001b[0m \u001b[0mnp\u001b[0m\u001b[0;34m.\u001b[0m\u001b[0msum\u001b[0m\u001b[0;34m(\u001b[0m\u001b[0mdata_observed\u001b[0m\u001b[0;34m[\u001b[0m\u001b[0;34m:\u001b[0m\u001b[0;34m,\u001b[0m \u001b[0;34m[\u001b[0m\u001b[0;36m6\u001b[0m\u001b[0;34m,\u001b[0m\u001b[0;36m7\u001b[0m\u001b[0;34m,\u001b[0m\u001b[0;36m8\u001b[0m\u001b[0;34m]\u001b[0m\u001b[0;34m]\u001b[0m\u001b[0;34m,\u001b[0m \u001b[0maxis\u001b[0m \u001b[0;34m=\u001b[0m\u001b[0;36m0\u001b[0m\u001b[0;34m)\u001b[0m\u001b[0;34m)\u001b[0m\u001b[0;34m/\u001b[0m\u001b[0mN\u001b[0m\u001b[0;34m\u001b[0m\u001b[0;34m\u001b[0m\u001b[0m\n",
            "\u001b[0;31mIndexError\u001b[0m: list index out of range"
          ]
        }
      ]
    },
    {
      "cell_type": "code",
      "metadata": {
        "colab": {
          "base_uri": "https://localhost:8080/"
        },
        "id": "UHBOBRSs1YAU",
        "outputId": "63b2397c-4a46-47ea-f2e1-c08066fe0392"
      },
      "source": [
        "print(np.mean(boots, axis=0))\n",
        "print(np.mean(data[:, [6,7,8]], axis=0))"
      ],
      "execution_count": null,
      "outputs": [
        {
          "output_type": "stream",
          "text": [
            "[0.03096811 0.02814859 0.02643809]\n",
            "[0.01195955 0.01117289 0.00263205]\n"
          ],
          "name": "stdout"
        }
      ]
    },
    {
      "cell_type": "code",
      "metadata": {
        "colab": {
          "base_uri": "https://localhost:8080/"
        },
        "id": "Muqf426z5vJM",
        "outputId": "6e0afb05-7011-49fe-a427-dde8b1a44e9f"
      },
      "source": [
        "data_missing[i, [0,1,2,3,4,5]]"
      ],
      "execution_count": null,
      "outputs": [
        {
          "output_type": "execute_result",
          "data": {
            "text/plain": [
              "array([ 0.03030632,  0.22484043,  0.02137786,  1.36365468, -1.56913731,\n",
              "        0.34398149])"
            ]
          },
          "metadata": {
            "tags": []
          },
          "execution_count": 247
        }
      ]
    },
    {
      "cell_type": "markdown",
      "metadata": {
        "id": "lb0P-olSHdQm"
      },
      "source": [
        "# Annoy"
      ]
    },
    {
      "cell_type": "code",
      "metadata": {
        "colab": {
          "base_uri": "https://localhost:8080/"
        },
        "id": "61kpR8GmIQUD",
        "outputId": "a5886a15-4e21-428f-a124-8a24c71d8728"
      },
      "source": [
        "data.shape[0]"
      ],
      "execution_count": 12,
      "outputs": [
        {
          "output_type": "execute_result",
          "data": {
            "text/plain": [
              "5000"
            ]
          },
          "metadata": {
            "tags": []
          },
          "execution_count": 12
        }
      ]
    },
    {
      "cell_type": "code",
      "metadata": {
        "colab": {
          "base_uri": "https://localhost:8080/"
        },
        "id": "RsuAd8MYHebs",
        "outputId": "481dec0d-904f-4acf-c159-ed7d2413f992"
      },
      "source": [
        "B = 100\n",
        "vars = 6\n",
        "boots_annoy = np.zeros(shape = (B,3))\n",
        "\n",
        "for b in range(B):\n",
        "  print(\"iteration: \", b)\n",
        "  np.random.seed(b)\n",
        "  flag = np.random.binomial(n = 1, p = pr)  \n",
        "  data_observed = data[flag==1]\n",
        "  data_missing = data[flag!=1]\n",
        "  \n",
        "  t = AnnoyIndex(vars, 'euclidean')  # Length of item vector that will be indexed\n",
        "  for i in range(data_observed.shape[0]):\n",
        "    t.add_item(i, data_observed[i, [0,1,2,3,4,5]])\n",
        "    \n",
        "  t.build(50) # 50 trees\n",
        "  \n",
        "  #t.save('test.ann')\n",
        "  #u = AnnoyIndex(vars, 'euclidean')\n",
        "  #u.load('test.ann')\n",
        "\n",
        "  missing_inds = [int(t.get_nns_by_vector(data_missing[i,[0,1,2,3,4,5]], 1)[0]) for i in range(data_missing.shape[0])]\n",
        "  #u.unload()\n",
        "\n",
        "  boots_annoy[b,:] = (np.sum(data_observed[np.array(missing_inds).astype(int),:][:,[6,7,8]], axis=0) + np.sum(data_observed[:, [6,7,8]], axis =0))/N"
      ],
      "execution_count": 80,
      "outputs": [
        {
          "output_type": "stream",
          "text": [
            "iteration:  0\n",
            "iteration:  1\n",
            "iteration:  2\n",
            "iteration:  3\n",
            "iteration:  4\n",
            "iteration:  5\n",
            "iteration:  6\n",
            "iteration:  7\n",
            "iteration:  8\n",
            "iteration:  9\n",
            "iteration:  10\n",
            "iteration:  11\n",
            "iteration:  12\n",
            "iteration:  13\n",
            "iteration:  14\n",
            "iteration:  15\n",
            "iteration:  16\n",
            "iteration:  17\n",
            "iteration:  18\n",
            "iteration:  19\n",
            "iteration:  20\n",
            "iteration:  21\n",
            "iteration:  22\n",
            "iteration:  23\n",
            "iteration:  24\n",
            "iteration:  25\n",
            "iteration:  26\n",
            "iteration:  27\n",
            "iteration:  28\n",
            "iteration:  29\n",
            "iteration:  30\n",
            "iteration:  31\n",
            "iteration:  32\n",
            "iteration:  33\n",
            "iteration:  34\n",
            "iteration:  35\n",
            "iteration:  36\n",
            "iteration:  37\n",
            "iteration:  38\n",
            "iteration:  39\n",
            "iteration:  40\n",
            "iteration:  41\n",
            "iteration:  42\n",
            "iteration:  43\n",
            "iteration:  44\n",
            "iteration:  45\n",
            "iteration:  46\n",
            "iteration:  47\n",
            "iteration:  48\n",
            "iteration:  49\n",
            "iteration:  50\n",
            "iteration:  51\n",
            "iteration:  52\n",
            "iteration:  53\n",
            "iteration:  54\n",
            "iteration:  55\n",
            "iteration:  56\n",
            "iteration:  57\n",
            "iteration:  58\n",
            "iteration:  59\n",
            "iteration:  60\n",
            "iteration:  61\n",
            "iteration:  62\n",
            "iteration:  63\n",
            "iteration:  64\n",
            "iteration:  65\n",
            "iteration:  66\n",
            "iteration:  67\n",
            "iteration:  68\n",
            "iteration:  69\n",
            "iteration:  70\n",
            "iteration:  71\n",
            "iteration:  72\n",
            "iteration:  73\n",
            "iteration:  74\n",
            "iteration:  75\n",
            "iteration:  76\n",
            "iteration:  77\n",
            "iteration:  78\n",
            "iteration:  79\n",
            "iteration:  80\n",
            "iteration:  81\n",
            "iteration:  82\n",
            "iteration:  83\n",
            "iteration:  84\n",
            "iteration:  85\n",
            "iteration:  86\n",
            "iteration:  87\n",
            "iteration:  88\n",
            "iteration:  89\n",
            "iteration:  90\n",
            "iteration:  91\n",
            "iteration:  92\n",
            "iteration:  93\n",
            "iteration:  94\n",
            "iteration:  95\n",
            "iteration:  96\n",
            "iteration:  97\n",
            "iteration:  98\n",
            "iteration:  99\n"
          ],
          "name": "stdout"
        }
      ]
    },
    {
      "cell_type": "code",
      "metadata": {
        "colab": {
          "base_uri": "https://localhost:8080/"
        },
        "id": "wQ8pDP7VI_66",
        "outputId": "459f36c4-b370-447d-92d1-cb3a9df1d8e5"
      },
      "source": [
        "print(\n",
        "    (np.mean(boots_annoy, axis=0) - np.mean(data[:, [6,7,8]], axis = 0)) / np.mean(data[:, [6,7,8]], axis = 0)*100\n",
        "    ) \n",
        "print(np.std(boots_annoy, axis=0))"
      ],
      "execution_count": 81,
      "outputs": [
        {
          "output_type": "stream",
          "text": [
            "[ 915.80295208 -972.11602987   43.63169436]\n",
            "[0.00296375 0.00296397 0.00308664]\n"
          ],
          "name": "stdout"
        }
      ]
    },
    {
      "cell_type": "code",
      "metadata": {
        "colab": {
          "base_uri": "https://localhost:8080/"
        },
        "id": "0PHCkj4LN5Cb",
        "outputId": "c660f193-53d1-49fc-e4c2-9e1cfe0feb53"
      },
      "source": [
        "np.mean(boots_annoy, axis=0) - np.mean(data[:, [6,7,8]], axis = 0)*100"
      ],
      "execution_count": 86,
      "outputs": [
        {
          "output_type": "execute_result",
          "data": {
            "text/plain": [
              "array([-0.04480352,  0.020281  , -1.00556323])"
            ]
          },
          "metadata": {
            "tags": []
          },
          "execution_count": 86
        }
      ]
    }
  ]
}