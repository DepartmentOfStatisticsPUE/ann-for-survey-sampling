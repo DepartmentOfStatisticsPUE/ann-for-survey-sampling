{
  "nbformat": 4,
  "nbformat_minor": 0,
  "metadata": {
    "colab": {
      "name": "ann-paper-sim-study-3.ipynb",
      "provenance": [],
      "collapsed_sections": [],
      "authorship_tag": "ABX9TyPonZJM8oZ4Lq8rF2mWB9L1",
      "include_colab_link": true
    },
    "kernelspec": {
      "name": "python3",
      "display_name": "Python 3"
    },
    "accelerator": "GPU"
  },
  "cells": [
    {
      "cell_type": "markdown",
      "metadata": {
        "id": "view-in-github",
        "colab_type": "text"
      },
      "source": [
        "<a href=\"https://colab.research.google.com/github/DepartmentOfStatisticsPUE/ann-for-survey-sampling/blob/main/notebooks/ann_paper_sim_study_3.ipynb\" target=\"_parent\"><img src=\"https://colab.research.google.com/assets/colab-badge.svg\" alt=\"Open In Colab\"/></a>"
      ]
    },
    {
      "cell_type": "code",
      "metadata": {
        "colab": {
          "base_uri": "https://localhost:8080/"
        },
        "id": "NsAD8OMvezI5",
        "outputId": "2ef03f12-e58b-4fa8-eb0f-68e0b48e143d"
      },
      "source": [
        "!apt install libomp-dev\n",
        "!pip install faiss-gpu"
      ],
      "execution_count": 2,
      "outputs": [
        {
          "output_type": "stream",
          "text": [
            "Reading package lists... Done\n",
            "Building dependency tree       \n",
            "Reading state information... Done\n",
            "libomp-dev is already the newest version (5.0.1-1).\n",
            "0 upgraded, 0 newly installed, 0 to remove and 14 not upgraded.\n",
            "Collecting faiss-gpu\n",
            "\u001b[?25l  Downloading https://files.pythonhosted.org/packages/7d/32/8b29e3f99224f24716257e78724a02674761e034e6920b4278cc21d19f77/faiss_gpu-1.6.5-cp36-cp36m-manylinux2014_x86_64.whl (67.6MB)\n",
            "\u001b[K     |████████████████████████████████| 67.7MB 46kB/s \n",
            "\u001b[?25hInstalling collected packages: faiss-gpu\n",
            "Successfully installed faiss-gpu-1.6.5\n"
          ],
          "name": "stdout"
        }
      ]
    },
    {
      "cell_type": "code",
      "metadata": {
        "id": "7Br6Vs_0fa34"
      },
      "source": [
        "import numpy as np\n",
        "import faiss"
      ],
      "execution_count": 3,
      "outputs": []
    },
    {
      "cell_type": "code",
      "metadata": {
        "id": "Ik4LdbVDfMY_"
      },
      "source": [
        "d = 64                           # dimension\n",
        "nb = 100000                      # database size\n",
        "nq = 10000                       # nb of queries\n",
        "np.random.seed(1234)             # make reproducible\n",
        "xb = np.random.random((nb, d)).astype('float32')\n",
        "xb[:, 0] += np.arange(nb) / 1000.\n",
        "xq = np.random.random((nq, d)).astype('float32')\n",
        "xq[:, 0] += np.arange(nq) / 1000."
      ],
      "execution_count": 4,
      "outputs": []
    },
    {
      "cell_type": "code",
      "metadata": {
        "colab": {
          "base_uri": "https://localhost:8080/"
        },
        "id": "UAk11TGmfdgD",
        "outputId": "6208efaa-f48b-4ac4-e86a-1a82a36bc84e"
      },
      "source": [
        "index = faiss.IndexFlatL2(d)   # build the index\n",
        "print(index.is_trained)\n",
        "index.add(xb)                  # add vectors to the index\n",
        "print(index.ntotal)\n",
        "k = 4                          # we want to see 4 nearest neighbors\n",
        "D, I = index.search(xb[:5], k) # sanity check\n",
        "print(I)\n",
        "print(D)\n",
        "D, I = index.search(xq, k)     # actual search\n",
        "print(I[:5])                   # neighbors of the 5 first queries\n",
        "print(I[-5:])  "
      ],
      "execution_count": 5,
      "outputs": [
        {
          "output_type": "stream",
          "text": [
            "True\n",
            "100000\n",
            "[[  0 393 363  78]\n",
            " [  1 555 277 364]\n",
            " [  2 304 101  13]\n",
            " [  3 173  18 182]\n",
            " [  4 288 370 531]]\n",
            "[[0.        7.175174  7.2076287 7.251163 ]\n",
            " [0.        6.323565  6.684582  6.799944 ]\n",
            " [0.        5.7964087 6.3917365 7.2815127]\n",
            " [0.        7.277905  7.5279875 7.6628447]\n",
            " [0.        6.763804  7.295122  7.368814 ]]\n",
            "[[ 381  207  210  477]\n",
            " [ 526  911  142   72]\n",
            " [ 838  527 1290  425]\n",
            " [ 196  184  164  359]\n",
            " [ 526  377  120  425]]\n",
            "[[ 9900 10500  9309  9831]\n",
            " [11055 10895 10812 11321]\n",
            " [11353 11103 10164  9787]\n",
            " [10571 10664 10632  9638]\n",
            " [ 9628  9554 10036  9582]]\n"
          ],
          "name": "stdout"
        }
      ]
    },
    {
      "cell_type": "code",
      "metadata": {
        "colab": {
          "base_uri": "https://localhost:8080/"
        },
        "id": "1xtafAIGfqcI",
        "outputId": "b08bc821-ebf9-426d-dd6d-881d86171ace"
      },
      "source": [
        "res = faiss.StandardGpuResources()  # use a single GPU\n",
        "index_flat = faiss.IndexFlatL2(d)\n",
        "# make it into a gpu index\n",
        "gpu_index_flat = faiss.index_cpu_to_gpu(res, 0, index_flat)\n",
        "gpu_index_flat.add(xb)         # add vectors to the index\n",
        "print(gpu_index_flat.ntotal)\n",
        "\n",
        "k = 4                          # we want to see 4 nearest neighbors\n",
        "D, I = gpu_index_flat.search(xq, k)  # actual search\n",
        "print(I[:5])                   # neighbors of the 5 first queries\n",
        "print(I[-5:]) "
      ],
      "execution_count": 7,
      "outputs": [
        {
          "output_type": "stream",
          "text": [
            "100000\n",
            "[[ 381  207  210  477]\n",
            " [ 526  911  142   72]\n",
            " [ 838  527 1290  425]\n",
            " [ 196  184  164  359]\n",
            " [ 526  377  120  425]]\n",
            "[[ 9900 10500  9309  9831]\n",
            " [11055 10895 10812 11321]\n",
            " [11353 11103 10164  9787]\n",
            " [10571 10664 10632  9638]\n",
            " [ 9628  9554 10036  9582]]\n"
          ],
          "name": "stdout"
        }
      ]
    }
  ]
}